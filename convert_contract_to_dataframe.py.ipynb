{
 "cells": [
  {
   "cell_type": "code",
   "execution_count": 1,
   "id": "508eedd9-14c0-40cc-9a92-cea879e6a6df",
   "metadata": {},
   "outputs": [],
   "source": [
    "import zipfile\n",
    "import xml.etree.ElementTree as ET\n",
    "from docx import Document\n",
    "import docx.oxml.table\n",
    "import docx.oxml.text.paragraph\n",
    "import docx.table\n",
    "import docx.text.paragraph\n",
    "from docx.oxml.ns import qn\n",
    "import xml.etree.ElementTree as ET\n",
    "import lxml.etree as LET\n",
    "from xml.etree.ElementTree import ElementTree\n",
    "from docx import Document\n",
    "from docx.opc.constants import RELATIONSHIP_TYPE as RT\n",
    "from docx.shared import Length"
   ]
  },
  {
   "cell_type": "markdown",
   "id": "7aa5cfcc",
   "metadata": {},
   "source": [
    "## データの読み込み"
   ]
  },
  {
   "cell_type": "code",
   "execution_count": 2,
   "id": "3184190e",
   "metadata": {},
   "outputs": [],
   "source": [
    "docx_path = 'サービス提供契約書_2024年4月1日_バージョン1.docx'"
   ]
  },
  {
   "cell_type": "code",
   "execution_count": 3,
   "id": "b0275b06",
   "metadata": {},
   "outputs": [],
   "source": [
    "doc = docx.Document(docx_path)"
   ]
  },
  {
   "cell_type": "code",
   "execution_count": 4,
   "id": "e5b7749c",
   "metadata": {},
   "outputs": [
    {
     "data": {
      "text/plain": [
       "57"
      ]
     },
     "execution_count": 4,
     "metadata": {},
     "output_type": "execute_result"
    }
   ],
   "source": [
    "len(doc.paragraphs)"
   ]
  },
  {
   "cell_type": "code",
   "execution_count": 5,
   "id": "5dd8a665",
   "metadata": {},
   "outputs": [],
   "source": [
    "# .docxファイルからnumbering.xmlを抽出\n",
    "\n",
    "def extract_numbering_xml(docx_path):\n",
    "    # zipファイルを読み込む\n",
    "    with zipfile.ZipFile(docx_path, 'r') as docx_zip:\n",
    "        if 'word/numbering.xml' in docx_zip.namelist():\n",
    "            return docx_zip.read('word/numbering.xml')\n",
    "    return None"
   ]
  },
  {
   "cell_type": "code",
   "execution_count": 6,
   "id": "feb596b6",
   "metadata": {},
   "outputs": [
    {
     "data": {
      "text/plain": [
       "b'<?xml version=\"1.0\" encoding=\"UTF-8\" standalone=\"yes\"?>\\r\\n<w:numbering xmlns:wpc=\"http://schemas.microsoft.com/office/word/2010/wordprocessingCanvas\" xmlns:cx=\"http://schemas.microsoft.com/office/drawing/2014/chartex\" xmlns:cx1=\"http://schemas.microsoft.com/office/drawing/2015/9/8/chartex\" xmlns:cx2=\"http://schemas.microsoft.com/office/drawing/2015/10/21/chartex\" xmlns:cx3=\"http://schemas.microsoft.com/office/drawing/2016/5/9/chartex\" xmlns:cx4=\"http://schemas.microsoft.com/office/drawing/2016/5/10/chartex\" xmlns:cx5=\"http://schemas.microsoft.com/office/drawing/2016/5/11/chartex\" xmlns:cx6=\"http://schemas.microsoft.com/office/drawing/2016/5/12/chartex\" xmlns:cx7=\"http://schemas.microsoft.com/office/drawing/2016/5/13/chartex\" xmlns:cx8=\"http://schemas.microsoft.com/office/drawing/2016/5/14/chartex\" xmlns:mc=\"http://schemas.openxmlformats.org/markup-compatibility/2006\" xmlns:aink=\"http://schemas.microsoft.com/office/drawing/2016/ink\" xmlns:am3d=\"http://schemas.microsoft.com/office/drawing/2017/model3d\" xmlns:o=\"urn:schemas-microsoft-com:office:office\" xmlns:oel=\"http://schemas.microsoft.com/office/2019/extlst\" xmlns:r=\"http://schemas.openxmlformats.org/officeDocument/2006/relationships\" xmlns:m=\"http://schemas.openxmlformats.org/officeDocument/2006/math\" xmlns:v=\"urn:schemas-microsoft-com:vml\" xmlns:wp14=\"http://schemas.microsoft.com/office/word/2010/wordprocessingDrawing\" xmlns:wp=\"http://schemas.openxmlformats.org/drawingml/2006/wordprocessingDrawing\" xmlns:w10=\"urn:schemas-microsoft-com:office:word\" xmlns:w=\"http://schemas.openxmlformats.org/wordprocessingml/2006/main\" xmlns:w14=\"http://schemas.microsoft.com/office/word/2010/wordml\" xmlns:w15=\"http://schemas.microsoft.com/office/word/2012/wordml\" xmlns:w16cex=\"http://schemas.microsoft.com/office/word/2018/wordml/cex\" xmlns:w16cid=\"http://schemas.microsoft.com/office/word/2016/wordml/cid\" xmlns:w16=\"http://schemas.microsoft.com/office/word/2018/wordml\" xmlns:w16sdtdh=\"http://schemas.microsoft.com/office/word/2020/wordml/sdtdatahash\" xmlns:w16se=\"http://schemas.microsoft.com/office/word/2015/wordml/symex\" xmlns:wpg=\"http://schemas.microsoft.com/office/word/2010/wordprocessingGroup\" xmlns:wpi=\"http://schemas.microsoft.com/office/word/2010/wordprocessingInk\" xmlns:wne=\"http://schemas.microsoft.com/office/word/2006/wordml\" xmlns:wps=\"http://schemas.microsoft.com/office/word/2010/wordprocessingShape\" mc:Ignorable=\"w14 w15 w16se w16cid w16 w16cex w16sdtdh wp14\"><w:abstractNum w:abstractNumId=\"0\" w15:restartNumberingAfterBreak=\"0\"><w:nsid w:val=\"10F652AA\"/><w:multiLevelType w:val=\"multilevel\"/><w:tmpl w:val=\"04090027\"/><w:lvl w:ilvl=\"0\"><w:start w:val=\"1\"/><w:numFmt w:val=\"japaneseCounting\"/><w:pStyle w:val=\"1\"/><w:lvlText w:val=\"\\xe7\\xac\\xac%1\\xe7\\xab\\xa0\"/><w:lvlJc w:val=\"left\"/><w:pPr><w:ind w:left=\"425\" w:hanging=\"425\"/></w:pPr></w:lvl><w:lvl w:ilvl=\"1\"><w:start w:val=\"1\"/><w:numFmt w:val=\"japaneseCounting\"/><w:pStyle w:val=\"2\"/><w:lvlText w:val=\"\\xe7\\xac\\xac%2\\xe7\\xaf\\x80\"/><w:lvlJc w:val=\"left\"/><w:pPr><w:ind w:left=\"851\" w:hanging=\"426\"/></w:pPr></w:lvl><w:lvl w:ilvl=\"2\"><w:start w:val=\"1\"/><w:numFmt w:val=\"japaneseCounting\"/><w:pStyle w:val=\"3\"/><w:lvlText w:val=\"\\xe7\\xac\\xac%3\\xe9\\xa0\\x85\"/><w:lvlJc w:val=\"left\"/><w:pPr><w:ind w:left=\"1276\" w:hanging=\"425\"/></w:pPr></w:lvl><w:lvl w:ilvl=\"3\"><w:start w:val=\"1\"/><w:numFmt w:val=\"none\"/><w:pStyle w:val=\"4\"/><w:suff w:val=\"nothing\"/><w:lvlText w:val=\"\"/><w:lvlJc w:val=\"left\"/><w:pPr><w:ind w:left=\"1701\" w:hanging=\"425\"/></w:pPr></w:lvl><w:lvl w:ilvl=\"4\"><w:start w:val=\"1\"/><w:numFmt w:val=\"none\"/><w:pStyle w:val=\"5\"/><w:suff w:val=\"nothing\"/><w:lvlText w:val=\"\"/><w:lvlJc w:val=\"left\"/><w:pPr><w:ind w:left=\"2126\" w:hanging=\"425\"/></w:pPr></w:lvl><w:lvl w:ilvl=\"5\"><w:start w:val=\"1\"/><w:numFmt w:val=\"none\"/><w:pStyle w:val=\"6\"/><w:suff w:val=\"nothing\"/><w:lvlText w:val=\"\"/><w:lvlJc w:val=\"left\"/><w:pPr><w:ind w:left=\"2551\" w:hanging=\"425\"/></w:pPr></w:lvl><w:lvl w:ilvl=\"6\"><w:start w:val=\"1\"/><w:numFmt w:val=\"none\"/><w:pStyle w:val=\"7\"/><w:suff w:val=\"nothing\"/><w:lvlText w:val=\"\"/><w:lvlJc w:val=\"left\"/><w:pPr><w:ind w:left=\"2976\" w:hanging=\"425\"/></w:pPr></w:lvl><w:lvl w:ilvl=\"7\"><w:start w:val=\"1\"/><w:numFmt w:val=\"none\"/><w:pStyle w:val=\"8\"/><w:suff w:val=\"nothing\"/><w:lvlText w:val=\"\"/><w:lvlJc w:val=\"left\"/><w:pPr><w:ind w:left=\"3402\" w:hanging=\"426\"/></w:pPr></w:lvl><w:lvl w:ilvl=\"8\"><w:start w:val=\"1\"/><w:numFmt w:val=\"none\"/><w:pStyle w:val=\"9\"/><w:suff w:val=\"nothing\"/><w:lvlText w:val=\"\"/><w:lvlJc w:val=\"left\"/><w:pPr><w:ind w:left=\"3827\" w:hanging=\"425\"/></w:pPr></w:lvl></w:abstractNum><w:abstractNum w:abstractNumId=\"1\" w15:restartNumberingAfterBreak=\"0\"><w:nsid w:val=\"158A792E\"/><w:multiLevelType w:val=\"multilevel\"/><w:tmpl w:val=\"0409001D\"/><w:lvl w:ilvl=\"0\"><w:start w:val=\"1\"/><w:numFmt w:val=\"decimal\"/><w:lvlText w:val=\"%1\"/><w:lvlJc w:val=\"left\"/><w:pPr><w:ind w:left=\"425\" w:hanging=\"425\"/></w:pPr></w:lvl><w:lvl w:ilvl=\"1\"><w:start w:val=\"1\"/><w:numFmt w:val=\"decimal\"/><w:lvlText w:val=\"%1.%2\"/><w:lvlJc w:val=\"left\"/><w:pPr><w:ind w:left=\"992\" w:hanging=\"567\"/></w:pPr></w:lvl><w:lvl w:ilvl=\"2\"><w:start w:val=\"1\"/><w:numFmt w:val=\"decimal\"/><w:lvlText w:val=\"%1.%2.%3\"/><w:lvlJc w:val=\"left\"/><w:pPr><w:ind w:left=\"1418\" w:hanging=\"567\"/></w:pPr></w:lvl><w:lvl w:ilvl=\"3\"><w:start w:val=\"1\"/><w:numFmt w:val=\"decimal\"/><w:lvlText w:val=\"%1.%2.%3.%4\"/><w:lvlJc w:val=\"left\"/><w:pPr><w:ind w:left=\"1984\" w:hanging=\"708\"/></w:pPr></w:lvl><w:lvl w:ilvl=\"4\"><w:start w:val=\"1\"/><w:numFmt w:val=\"decimal\"/><w:lvlText w:val=\"%1.%2.%3.%4.%5\"/><w:lvlJc w:val=\"left\"/><w:pPr><w:ind w:left=\"2551\" w:hanging=\"850\"/></w:pPr></w:lvl><w:lvl w:ilvl=\"5\"><w:start w:val=\"1\"/><w:numFmt w:val=\"decimal\"/><w:lvlText w:val=\"%1.%2.%3.%4.%5.%6\"/><w:lvlJc w:val=\"left\"/><w:pPr><w:ind w:left=\"3260\" w:hanging=\"1134\"/></w:pPr></w:lvl><w:lvl w:ilvl=\"6\"><w:start w:val=\"1\"/><w:numFmt w:val=\"decimal\"/><w:lvlText w:val=\"%1.%2.%3.%4.%5.%6.%7\"/><w:lvlJc w:val=\"left\"/><w:pPr><w:ind w:left=\"3827\" w:hanging=\"1276\"/></w:pPr></w:lvl><w:lvl w:ilvl=\"7\"><w:start w:val=\"1\"/><w:numFmt w:val=\"decimal\"/><w:lvlText w:val=\"%1.%2.%3.%4.%5.%6.%7.%8\"/><w:lvlJc w:val=\"left\"/><w:pPr><w:ind w:left=\"4394\" w:hanging=\"1418\"/></w:pPr></w:lvl><w:lvl w:ilvl=\"8\"><w:start w:val=\"1\"/><w:numFmt w:val=\"decimal\"/><w:lvlText w:val=\"%1.%2.%3.%4.%5.%6.%7.%8.%9\"/><w:lvlJc w:val=\"left\"/><w:pPr><w:ind w:left=\"5102\" w:hanging=\"1700\"/></w:pPr></w:lvl></w:abstractNum><w:abstractNum w:abstractNumId=\"2\" w15:restartNumberingAfterBreak=\"0\"><w:nsid w:val=\"27F22DE1\"/><w:multiLevelType w:val=\"multilevel\"/><w:tmpl w:val=\"69AE9C24\"/><w:lvl w:ilvl=\"0\"><w:start w:val=\"1\"/><w:numFmt w:val=\"decimal\"/><w:lvlText w:val=\"%1)\"/><w:lvlJc w:val=\"left\"/><w:pPr><w:ind w:left=\"440\" w:hanging=\"440\"/></w:pPr><w:rPr><w:rFonts w:hint=\"eastAsia\"/></w:rPr></w:lvl><w:lvl w:ilvl=\"1\"><w:start w:val=\"1\"/><w:numFmt w:val=\"japaneseCounting\"/><w:lvlText w:val=\"\\xe7\\xac\\xac%2\\xe7\\xaf\\x80\"/><w:lvlJc w:val=\"left\"/><w:pPr><w:ind w:left=\"851\" w:hanging=\"426\"/></w:pPr></w:lvl><w:lvl w:ilvl=\"2\"><w:start w:val=\"1\"/><w:numFmt w:val=\"japaneseCounting\"/><w:lvlText w:val=\"\\xe7\\xac\\xac%3\\xe9\\xa0\\x85\"/><w:lvlJc w:val=\"left\"/><w:pPr><w:ind w:left=\"1276\" w:hanging=\"425\"/></w:pPr></w:lvl><w:lvl w:ilvl=\"3\"><w:start w:val=\"1\"/><w:numFmt w:val=\"none\"/><w:suff w:val=\"nothing\"/><w:lvlText w:val=\"\"/><w:lvlJc w:val=\"left\"/><w:pPr><w:ind w:left=\"1701\" w:hanging=\"425\"/></w:pPr></w:lvl><w:lvl w:ilvl=\"4\"><w:start w:val=\"1\"/><w:numFmt w:val=\"none\"/><w:suff w:val=\"nothing\"/><w:lvlText w:val=\"\"/><w:lvlJc w:val=\"left\"/><w:pPr><w:ind w:left=\"2126\" w:hanging=\"425\"/></w:pPr></w:lvl><w:lvl w:ilvl=\"5\"><w:start w:val=\"1\"/><w:numFmt w:val=\"none\"/><w:suff w:val=\"nothing\"/><w:lvlText w:val=\"\"/><w:lvlJc w:val=\"left\"/><w:pPr><w:ind w:left=\"2551\" w:hanging=\"425\"/></w:pPr></w:lvl><w:lvl w:ilvl=\"6\"><w:start w:val=\"1\"/><w:numFmt w:val=\"none\"/><w:suff w:val=\"nothing\"/><w:lvlText w:val=\"\"/><w:lvlJc w:val=\"left\"/><w:pPr><w:ind w:left=\"2976\" w:hanging=\"425\"/></w:pPr></w:lvl><w:lvl w:ilvl=\"7\"><w:start w:val=\"1\"/><w:numFmt w:val=\"none\"/><w:suff w:val=\"nothing\"/><w:lvlText w:val=\"\"/><w:lvlJc w:val=\"left\"/><w:pPr><w:ind w:left=\"3402\" w:hanging=\"426\"/></w:pPr></w:lvl><w:lvl w:ilvl=\"8\"><w:start w:val=\"1\"/><w:numFmt w:val=\"none\"/><w:suff w:val=\"nothing\"/><w:lvlText w:val=\"\"/><w:lvlJc w:val=\"left\"/><w:pPr><w:ind w:left=\"3827\" w:hanging=\"425\"/></w:pPr></w:lvl></w:abstractNum><w:abstractNum w:abstractNumId=\"3\" w15:restartNumberingAfterBreak=\"0\"><w:nsid w:val=\"40F41FFD\"/><w:multiLevelType w:val=\"hybridMultilevel\"/><w:tmpl w:val=\"E2D474D0\"/><w:lvl w:ilvl=\"0\" w:tplc=\"0409000F\"><w:start w:val=\"1\"/><w:numFmt w:val=\"decimal\"/><w:lvlText w:val=\"%1.\"/><w:lvlJc w:val=\"left\"/><w:pPr><w:ind w:left=\"440\" w:hanging=\"440\"/></w:pPr></w:lvl><w:lvl w:ilvl=\"1\" w:tplc=\"04090017\"><w:start w:val=\"1\"/><w:numFmt w:val=\"aiueoFullWidth\"/><w:lvlText w:val=\"(%2)\"/><w:lvlJc w:val=\"left\"/><w:pPr><w:ind w:left=\"880\" w:hanging=\"440\"/></w:pPr></w:lvl><w:lvl w:ilvl=\"2\" w:tplc=\"04090011\" w:tentative=\"1\"><w:start w:val=\"1\"/><w:numFmt w:val=\"decimalEnclosedCircle\"/><w:lvlText w:val=\"%3\"/><w:lvlJc w:val=\"left\"/><w:pPr><w:ind w:left=\"1320\" w:hanging=\"440\"/></w:pPr></w:lvl><w:lvl w:ilvl=\"3\" w:tplc=\"0409000F\" w:tentative=\"1\"><w:start w:val=\"1\"/><w:numFmt w:val=\"decimal\"/><w:lvlText w:val=\"%4.\"/><w:lvlJc w:val=\"left\"/><w:pPr><w:ind w:left=\"1760\" w:hanging=\"440\"/></w:pPr></w:lvl><w:lvl w:ilvl=\"4\" w:tplc=\"04090017\" w:tentative=\"1\"><w:start w:val=\"1\"/><w:numFmt w:val=\"aiueoFullWidth\"/><w:lvlText w:val=\"(%5)\"/><w:lvlJc w:val=\"left\"/><w:pPr><w:ind w:left=\"2200\" w:hanging=\"440\"/></w:pPr></w:lvl><w:lvl w:ilvl=\"5\" w:tplc=\"04090011\" w:tentative=\"1\"><w:start w:val=\"1\"/><w:numFmt w:val=\"decimalEnclosedCircle\"/><w:lvlText w:val=\"%6\"/><w:lvlJc w:val=\"left\"/><w:pPr><w:ind w:left=\"2640\" w:hanging=\"440\"/></w:pPr></w:lvl><w:lvl w:ilvl=\"6\" w:tplc=\"0409000F\" w:tentative=\"1\"><w:start w:val=\"1\"/><w:numFmt w:val=\"decimal\"/><w:lvlText w:val=\"%7.\"/><w:lvlJc w:val=\"left\"/><w:pPr><w:ind w:left=\"3080\" w:hanging=\"440\"/></w:pPr></w:lvl><w:lvl w:ilvl=\"7\" w:tplc=\"04090017\" w:tentative=\"1\"><w:start w:val=\"1\"/><w:numFmt w:val=\"aiueoFullWidth\"/><w:lvlText w:val=\"(%8)\"/><w:lvlJc w:val=\"left\"/><w:pPr><w:ind w:left=\"3520\" w:hanging=\"440\"/></w:pPr></w:lvl><w:lvl w:ilvl=\"8\" w:tplc=\"04090011\" w:tentative=\"1\"><w:start w:val=\"1\"/><w:numFmt w:val=\"decimalEnclosedCircle\"/><w:lvlText w:val=\"%9\"/><w:lvlJc w:val=\"left\"/><w:pPr><w:ind w:left=\"3960\" w:hanging=\"440\"/></w:pPr></w:lvl></w:abstractNum><w:abstractNum w:abstractNumId=\"4\" w15:restartNumberingAfterBreak=\"0\"><w:nsid w:val=\"47D275E6\"/><w:multiLevelType w:val=\"hybridMultilevel\"/><w:tmpl w:val=\"80C80E48\"/><w:lvl w:ilvl=\"0\" w:tplc=\"77823FFE\"><w:start w:val=\"1\"/><w:numFmt w:val=\"upperRoman\"/><w:lvlText w:val=\"%1.\"/><w:lvlJc w:val=\"center\"/><w:pPr><w:ind w:left=\"440\" w:hanging=\"440\"/></w:pPr><w:rPr><w:rFonts w:hint=\"eastAsia\"/></w:rPr></w:lvl><w:lvl w:ilvl=\"1\" w:tplc=\"04090017\" w:tentative=\"1\"><w:start w:val=\"1\"/><w:numFmt w:val=\"aiueoFullWidth\"/><w:lvlText w:val=\"(%2)\"/><w:lvlJc w:val=\"left\"/><w:pPr><w:ind w:left=\"880\" w:hanging=\"440\"/></w:pPr></w:lvl><w:lvl w:ilvl=\"2\" w:tplc=\"04090011\" w:tentative=\"1\"><w:start w:val=\"1\"/><w:numFmt w:val=\"decimalEnclosedCircle\"/><w:lvlText w:val=\"%3\"/><w:lvlJc w:val=\"left\"/><w:pPr><w:ind w:left=\"1320\" w:hanging=\"440\"/></w:pPr></w:lvl><w:lvl w:ilvl=\"3\" w:tplc=\"0409000F\" w:tentative=\"1\"><w:start w:val=\"1\"/><w:numFmt w:val=\"decimal\"/><w:lvlText w:val=\"%4.\"/><w:lvlJc w:val=\"left\"/><w:pPr><w:ind w:left=\"1760\" w:hanging=\"440\"/></w:pPr></w:lvl><w:lvl w:ilvl=\"4\" w:tplc=\"04090017\" w:tentative=\"1\"><w:start w:val=\"1\"/><w:numFmt w:val=\"aiueoFullWidth\"/><w:lvlText w:val=\"(%5)\"/><w:lvlJc w:val=\"left\"/><w:pPr><w:ind w:left=\"2200\" w:hanging=\"440\"/></w:pPr></w:lvl><w:lvl w:ilvl=\"5\" w:tplc=\"04090011\" w:tentative=\"1\"><w:start w:val=\"1\"/><w:numFmt w:val=\"decimalEnclosedCircle\"/><w:lvlText w:val=\"%6\"/><w:lvlJc w:val=\"left\"/><w:pPr><w:ind w:left=\"2640\" w:hanging=\"440\"/></w:pPr></w:lvl><w:lvl w:ilvl=\"6\" w:tplc=\"0409000F\" w:tentative=\"1\"><w:start w:val=\"1\"/><w:numFmt w:val=\"decimal\"/><w:lvlText w:val=\"%7.\"/><w:lvlJc w:val=\"left\"/><w:pPr><w:ind w:left=\"3080\" w:hanging=\"440\"/></w:pPr></w:lvl><w:lvl w:ilvl=\"7\" w:tplc=\"04090017\" w:tentative=\"1\"><w:start w:val=\"1\"/><w:numFmt w:val=\"aiueoFullWidth\"/><w:lvlText w:val=\"(%8)\"/><w:lvlJc w:val=\"left\"/><w:pPr><w:ind w:left=\"3520\" w:hanging=\"440\"/></w:pPr></w:lvl><w:lvl w:ilvl=\"8\" w:tplc=\"04090011\" w:tentative=\"1\"><w:start w:val=\"1\"/><w:numFmt w:val=\"decimalEnclosedCircle\"/><w:lvlText w:val=\"%9\"/><w:lvlJc w:val=\"left\"/><w:pPr><w:ind w:left=\"3960\" w:hanging=\"440\"/></w:pPr></w:lvl></w:abstractNum><w:abstractNum w:abstractNumId=\"5\" w15:restartNumberingAfterBreak=\"0\"><w:nsid w:val=\"54A44FD4\"/><w:multiLevelType w:val=\"hybridMultilevel\"/><w:tmpl w:val=\"96583298\"/><w:lvl w:ilvl=\"0\" w:tplc=\"04090015\"><w:start w:val=\"1\"/><w:numFmt w:val=\"upperLetter\"/><w:lvlText w:val=\"%1)\"/><w:lvlJc w:val=\"left\"/><w:pPr><w:ind w:left=\"440\" w:hanging=\"440\"/></w:pPr></w:lvl><w:lvl w:ilvl=\"1\" w:tplc=\"04090017\"><w:start w:val=\"1\"/><w:numFmt w:val=\"aiueoFullWidth\"/><w:lvlText w:val=\"(%2)\"/><w:lvlJc w:val=\"left\"/><w:pPr><w:ind w:left=\"880\" w:hanging=\"440\"/></w:pPr></w:lvl><w:lvl w:ilvl=\"2\" w:tplc=\"04090011\" w:tentative=\"1\"><w:start w:val=\"1\"/><w:numFmt w:val=\"decimalEnclosedCircle\"/><w:lvlText w:val=\"%3\"/><w:lvlJc w:val=\"left\"/><w:pPr><w:ind w:left=\"1320\" w:hanging=\"440\"/></w:pPr></w:lvl><w:lvl w:ilvl=\"3\" w:tplc=\"0409000F\" w:tentative=\"1\"><w:start w:val=\"1\"/><w:numFmt w:val=\"decimal\"/><w:lvlText w:val=\"%4.\"/><w:lvlJc w:val=\"left\"/><w:pPr><w:ind w:left=\"1760\" w:hanging=\"440\"/></w:pPr></w:lvl><w:lvl w:ilvl=\"4\" w:tplc=\"04090017\" w:tentative=\"1\"><w:start w:val=\"1\"/><w:numFmt w:val=\"aiueoFullWidth\"/><w:lvlText w:val=\"(%5)\"/><w:lvlJc w:val=\"left\"/><w:pPr><w:ind w:left=\"2200\" w:hanging=\"440\"/></w:pPr></w:lvl><w:lvl w:ilvl=\"5\" w:tplc=\"04090011\" w:tentative=\"1\"><w:start w:val=\"1\"/><w:numFmt w:val=\"decimalEnclosedCircle\"/><w:lvlText w:val=\"%6\"/><w:lvlJc w:val=\"left\"/><w:pPr><w:ind w:left=\"2640\" w:hanging=\"440\"/></w:pPr></w:lvl><w:lvl w:ilvl=\"6\" w:tplc=\"0409000F\" w:tentative=\"1\"><w:start w:val=\"1\"/><w:numFmt w:val=\"decimal\"/><w:lvlText w:val=\"%7.\"/><w:lvlJc w:val=\"left\"/><w:pPr><w:ind w:left=\"3080\" w:hanging=\"440\"/></w:pPr></w:lvl><w:lvl w:ilvl=\"7\" w:tplc=\"04090017\" w:tentative=\"1\"><w:start w:val=\"1\"/><w:numFmt w:val=\"aiueoFullWidth\"/><w:lvlText w:val=\"(%8)\"/><w:lvlJc w:val=\"left\"/><w:pPr><w:ind w:left=\"3520\" w:hanging=\"440\"/></w:pPr></w:lvl><w:lvl w:ilvl=\"8\" w:tplc=\"04090011\" w:tentative=\"1\"><w:start w:val=\"1\"/><w:numFmt w:val=\"decimalEnclosedCircle\"/><w:lvlText w:val=\"%9\"/><w:lvlJc w:val=\"left\"/><w:pPr><w:ind w:left=\"3960\" w:hanging=\"440\"/></w:pPr></w:lvl></w:abstractNum><w:abstractNum w:abstractNumId=\"6\" w15:restartNumberingAfterBreak=\"0\"><w:nsid w:val=\"565009E1\"/><w:multiLevelType w:val=\"hybridMultilevel\"/><w:tmpl w:val=\"768E9EE8\"/><w:lvl w:ilvl=\"0\" w:tplc=\"77823FFE\"><w:start w:val=\"1\"/><w:numFmt w:val=\"upperRoman\"/><w:lvlText w:val=\"%1.\"/><w:lvlJc w:val=\"center\"/><w:pPr><w:ind w:left=\"440\" w:hanging=\"440\"/></w:pPr><w:rPr><w:rFonts w:hint=\"eastAsia\"/></w:rPr></w:lvl><w:lvl w:ilvl=\"1\" w:tplc=\"04090017\"><w:start w:val=\"1\"/><w:numFmt w:val=\"aiueoFullWidth\"/><w:lvlText w:val=\"(%2)\"/><w:lvlJc w:val=\"left\"/><w:pPr><w:ind w:left=\"880\" w:hanging=\"440\"/></w:pPr></w:lvl><w:lvl w:ilvl=\"2\" w:tplc=\"04090011\"><w:start w:val=\"1\"/><w:numFmt w:val=\"decimalEnclosedCircle\"/><w:lvlText w:val=\"%3\"/><w:lvlJc w:val=\"left\"/><w:pPr><w:ind w:left=\"1320\" w:hanging=\"440\"/></w:pPr></w:lvl><w:lvl w:ilvl=\"3\" w:tplc=\"0409000F\" w:tentative=\"1\"><w:start w:val=\"1\"/><w:numFmt w:val=\"decimal\"/><w:lvlText w:val=\"%4.\"/><w:lvlJc w:val=\"left\"/><w:pPr><w:ind w:left=\"1760\" w:hanging=\"440\"/></w:pPr></w:lvl><w:lvl w:ilvl=\"4\" w:tplc=\"04090017\" w:tentative=\"1\"><w:start w:val=\"1\"/><w:numFmt w:val=\"aiueoFullWidth\"/><w:lvlText w:val=\"(%5)\"/><w:lvlJc w:val=\"left\"/><w:pPr><w:ind w:left=\"2200\" w:hanging=\"440\"/></w:pPr></w:lvl><w:lvl w:ilvl=\"5\" w:tplc=\"04090011\" w:tentative=\"1\"><w:start w:val=\"1\"/><w:numFmt w:val=\"decimalEnclosedCircle\"/><w:lvlText w:val=\"%6\"/><w:lvlJc w:val=\"left\"/><w:pPr><w:ind w:left=\"2640\" w:hanging=\"440\"/></w:pPr></w:lvl><w:lvl w:ilvl=\"6\" w:tplc=\"0409000F\" w:tentative=\"1\"><w:start w:val=\"1\"/><w:numFmt w:val=\"decimal\"/><w:lvlText w:val=\"%7.\"/><w:lvlJc w:val=\"left\"/><w:pPr><w:ind w:left=\"3080\" w:hanging=\"440\"/></w:pPr></w:lvl><w:lvl w:ilvl=\"7\" w:tplc=\"04090017\" w:tentative=\"1\"><w:start w:val=\"1\"/><w:numFmt w:val=\"aiueoFullWidth\"/><w:lvlText w:val=\"(%8)\"/><w:lvlJc w:val=\"left\"/><w:pPr><w:ind w:left=\"3520\" w:hanging=\"440\"/></w:pPr></w:lvl><w:lvl w:ilvl=\"8\" w:tplc=\"04090011\" w:tentative=\"1\"><w:start w:val=\"1\"/><w:numFmt w:val=\"decimalEnclosedCircle\"/><w:lvlText w:val=\"%9\"/><w:lvlJc w:val=\"left\"/><w:pPr><w:ind w:left=\"3960\" w:hanging=\"440\"/></w:pPr></w:lvl></w:abstractNum><w:num w:numId=\"1\" w16cid:durableId=\"1620717952\"><w:abstractNumId w:val=\"3\"/></w:num><w:num w:numId=\"2\" w16cid:durableId=\"521164916\"><w:abstractNumId w:val=\"0\"/></w:num><w:num w:numId=\"3\" w16cid:durableId=\"1564027817\"><w:abstractNumId w:val=\"2\"/></w:num><w:num w:numId=\"4\" w16cid:durableId=\"1932010990\"><w:abstractNumId w:val=\"4\"/></w:num><w:num w:numId=\"5\" w16cid:durableId=\"732318316\"><w:abstractNumId w:val=\"6\"/></w:num><w:num w:numId=\"6\" w16cid:durableId=\"1701081032\"><w:abstractNumId w:val=\"1\"/></w:num><w:num w:numId=\"7\" w16cid:durableId=\"1142696660\"><w:abstractNumId w:val=\"5\"/></w:num></w:numbering>'"
      ]
     },
     "execution_count": 6,
     "metadata": {},
     "output_type": "execute_result"
    }
   ],
   "source": [
    "# xmlの取得\n",
    "xml_content = extract_numbering_xml(docx_path)\n",
    "xml_content"
   ]
  },
  {
   "cell_type": "code",
   "execution_count": 7,
   "id": "def07224",
   "metadata": {},
   "outputs": [],
   "source": [
    "WORD_NAMESPACE = 'http://schemas.openxmlformats.org/wordprocessingml/2006/main'\n",
    "ns = {'w': WORD_NAMESPACE}"
   ]
  },
  {
   "cell_type": "code",
   "execution_count": 8,
   "id": "1f3068c5",
   "metadata": {},
   "outputs": [],
   "source": [
    "# 番号付け定義の読み込みと解析関数\n",
    "def load_numbering_definitions(docx_path):\n",
    "    with zipfile.ZipFile(docx_path) as docx_zip:\n",
    "        with docx_zip.open('word/numbering.xml') as numbering_xml:\n",
    "            xml_content = numbering_xml.read()\n",
    "    numbering_root = ET.fromstring(xml_content)\n",
    "    \n",
    "    numId_abstractNumId_map = {}\n",
    "    abstractNumId_numFmt_map = {}\n",
    "    \n",
    "    for num in numbering_root.findall(f'w:num', ns):\n",
    "        numId = num.get(f'{{{WORD_NAMESPACE}}}numId')\n",
    "        abstractNumId = num.find('w:abstractNumId', ns).get(f'{{{WORD_NAMESPACE}}}val')\n",
    "        numId_abstractNumId_map[numId] = abstractNumId\n",
    "    \n",
    "    for abstractNum in numbering_root.findall(f'w:abstractNum', ns):\n",
    "        abstractNumId = abstractNum.get(f'{{{WORD_NAMESPACE}}}abstractNumId')\n",
    "        numFmt = abstractNum.find(f'.//w:numFmt', ns).get(f'{{{WORD_NAMESPACE}}}val')\n",
    "        abstractNumId_numFmt_map[abstractNumId] = numFmt\n",
    "\n",
    "    return numId_abstractNumId_map, abstractNumId_numFmt_map"
   ]
  },
  {
   "cell_type": "code",
   "execution_count": 9,
   "id": "675c0053",
   "metadata": {},
   "outputs": [],
   "source": [
    "# 段落の詳細抽出関数\n",
    "def extract_paragraph_details(docx_path, numId_abstractNumId_map, abstractNumId_numFmt_map):\n",
    "    doc = Document(docx_path)\n",
    "    paragraph_details = []\n",
    "    \n",
    "    for para in doc.paragraphs:\n",
    "        pPr_elem = para._element.find('.//w:pPr', ns)\n",
    "        numId_elem = pPr_elem.find('.//w:numId', ns) if pPr_elem is not None else None\n",
    "        ilvl_elem = pPr_elem.find('.//w:ilvl', ns) if pPr_elem is not None else None\n",
    "        \n",
    "        # 要素が存在するかどうかのチェックを修正\n",
    "        if numId_elem is not None and ilvl_elem is not None:\n",
    "            numId = numId_elem.get(f'{{{WORD_NAMESPACE}}}val')\n",
    "            ilvl = ilvl_elem.get(f'{{{WORD_NAMESPACE}}}val')\n",
    "            abstractNumId = numId_abstractNumId_map.get(numId, 'Unknown')\n",
    "            numFmt = abstractNumId_numFmt_map.get(abstractNumId, 'Unknown')\n",
    "            pPr_info = 'Exists' if ilvl_elem is not None else 'Not Found'\n",
    "            paragraph_details.append((para.text, numId, ilvl, numFmt, pPr_info))\n",
    "    \n",
    "    return paragraph_details"
   ]
  },
  {
   "cell_type": "code",
   "execution_count": 10,
   "id": "8bfa52fc",
   "metadata": {},
   "outputs": [
    {
     "name": "stdout",
     "output_type": "stream",
     "text": [
      "Text: 第1条（契約の目的）, NumId: 5, Level: 0, Format: upperRoman, pPr: Exists\n",
      "Text: この契約は、甲方が乙方に対して[具体的なサービスや製品の名称]の提供に関する条件を定めるものである。, NumId: 5, Level: 1, Format: upperRoman, pPr: Exists\n",
      "Text: 第2条（契約期間）, NumId: 5, Level: 0, Format: upperRoman, pPr: Exists\n",
      "Text: この契約の有効期間は、2024年4月1日から2025年3月31日までとする。, NumId: 5, Level: 1, Format: upperRoman, pPr: Exists\n",
      "Text: 第3条（サービスの内容）, NumId: 5, Level: 0, Format: upperRoman, pPr: Exists\n",
      "Text: 甲方は乙方に対して、次のサービスを提供するものとする。, NumId: 5, Level: 1, Format: upperRoman, pPr: Exists\n",
      "Text: [サービス内容1], NumId: 5, Level: 2, Format: upperRoman, pPr: Exists\n",
      "Text: [サービス内容2], NumId: 5, Level: 2, Format: upperRoman, pPr: Exists\n",
      "Text: 第4条（報酬）, NumId: 5, Level: 0, Format: upperRoman, pPr: Exists\n",
      "Text: 乙方は、甲方が提供するサービスの対価として、[金額]を支払うものとする。, NumId: 5, Level: 1, Format: upperRoman, pPr: Exists\n",
      "Text: 支払い条件、支払い方法については、[具体的な条件や方法]に従う。, NumId: 5, Level: 1, Format: upperRoman, pPr: Exists\n",
      "Text: 第5条（契約の変更と解除）, NumId: 5, Level: 0, Format: upperRoman, pPr: Exists\n",
      "Text: 本契約に関する変更や追加は、両当事者の書面による合意がなければ有効としない。, NumId: 5, Level: 1, Format: upperRoman, pPr: Exists\n",
      "Text: 第6条（秘密保持）, NumId: 5, Level: 0, Format: upperRoman, pPr: Exists\n",
      "Text: 両当事者は、本契約に関連して知り得た相手方の機密情報を第三者に開示しないものとする。, NumId: 5, Level: 1, Format: upperRoman, pPr: Exists\n",
      "Text: 第7条（準拠法）, NumId: 5, Level: 0, Format: upperRoman, pPr: Exists\n",
      "Text: 本契約に関する一切の事項は、[特定の国や地域の法律]に準拠して解釈される。, NumId: 5, Level: 1, Format: upperRoman, pPr: Exists\n",
      "Text: 第8条（紛争解決）, NumId: 5, Level: 0, Format: upperRoman, pPr: Exists\n",
      "Text: 本契約に関連して生じた紛争については、[紛争解決の方法や場所]に従って解決を図る。, NumId: 5, Level: 1, Format: upperRoman, pPr: Exists\n",
      "Text: test test test test test test, NumId: 6, Level: 0, Format: decimal, pPr: Exists\n",
      "Text: test test test test test test test, NumId: 6, Level: 1, Format: decimal, pPr: Exists\n",
      "Text: test test test test test test, NumId: 6, Level: 1, Format: decimal, pPr: Exists\n",
      "Text: test test test test test test, NumId: 6, Level: 1, Format: decimal, pPr: Exists\n",
      "Text: test test test test test test, NumId: 6, Level: 2, Format: decimal, pPr: Exists\n",
      "Text: test test test test test test, NumId: 6, Level: 2, Format: decimal, pPr: Exists\n",
      "Text: test test test test test test, NumId: 6, Level: 0, Format: decimal, pPr: Exists\n",
      "Text: test test test test test test, NumId: 6, Level: 1, Format: decimal, pPr: Exists\n",
      "Text: test test test test test test, NumId: 6, Level: 0, Format: decimal, pPr: Exists\n",
      "Text: aaa, NumId: 7, Level: 0, Format: upperLetter, pPr: Exists\n",
      "Text: aaa, NumId: 7, Level: 1, Format: upperLetter, pPr: Exists\n",
      "Text: aaa, NumId: 7, Level: 0, Format: upperLetter, pPr: Exists\n",
      "Text: aaa, NumId: 7, Level: 0, Format: upperLetter, pPr: Exists\n",
      "Text: aaa, NumId: 7, Level: 1, Format: upperLetter, pPr: Exists\n"
     ]
    }
   ],
   "source": [
    "numId_abstractNumId_map, abstractNumId_numFmt_map = load_numbering_definitions(docx_path)\n",
    "paragraph_details = extract_paragraph_details(docx_path, numId_abstractNumId_map, abstractNumId_numFmt_map)\n",
    "\n",
    "for detail in paragraph_details:\n",
    "    print(f\"Text: {detail[0]}, NumId: {detail[1]}, Level: {detail[2]}, Format: {detail[3]}, pPr: {detail[4]}\")"
   ]
  },
  {
   "cell_type": "markdown",
   "id": "a6c65cc8",
   "metadata": {},
   "source": []
  }
 ],
 "metadata": {
  "kernelspec": {
   "display_name": "Python 3 (ipykernel)",
   "language": "python",
   "name": "python3"
  },
  "language_info": {
   "codemirror_mode": {
    "name": "ipython",
    "version": 3
   },
   "file_extension": ".py",
   "mimetype": "text/x-python",
   "name": "python",
   "nbconvert_exporter": "python",
   "pygments_lexer": "ipython3",
   "version": "3.10.13"
  }
 },
 "nbformat": 4,
 "nbformat_minor": 5
}
